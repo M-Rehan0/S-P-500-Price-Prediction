{
  "cells": [
    {
      "cell_type": "code",
      "execution_count": 1,
      "metadata": {
        "colab": {
          "base_uri": "https://localhost:8080/"
        },
        "id": "YNQcbawxUZXn",
        "outputId": "5832e7d9-a2d9-4da9-91dd-9fc8fae1f48a"
      },
      "outputs": [
        {
          "output_type": "stream",
          "name": "stdout",
          "text": [
            "Downloading from https://www.kaggle.com/api/v1/datasets/download/joebeachcapital/s-and-p500-index-stocks-daily-updated?dataset_version_number=166...\n"
          ]
        },
        {
          "output_type": "stream",
          "name": "stderr",
          "text": [
            "100%|██████████| 52.3M/52.3M [00:01<00:00, 37.9MB/s]"
          ]
        },
        {
          "output_type": "stream",
          "name": "stdout",
          "text": [
            "Extracting files...\n"
          ]
        },
        {
          "output_type": "stream",
          "name": "stderr",
          "text": [
            "\n"
          ]
        }
      ],
      "source": [
        "import kagglehub\n",
        "from pyspark.sql import SparkSession\n",
        "from pyspark.sql.functions import year, month, dayofmonth\n",
        "from pyspark.ml.regression import RandomForestRegressor\n",
        "from pyspark.ml.feature import VectorAssembler, StringIndexer\n",
        "from pyspark.ml.evaluation import RegressionEvaluator\n",
        "\n",
        "#Import data\n",
        "import math\n",
        "path = kagglehub.dataset_download(\"joebeachcapital/s-and-p500-index-stocks-daily-updated\")"
      ]
    },
    {
      "cell_type": "code",
      "execution_count": 2,
      "metadata": {
        "colab": {
          "base_uri": "https://localhost:8080/"
        },
        "id": "rykkdH7bVK3z",
        "outputId": "3ceb89e8-eec9-4545-b26c-e627b67f757c"
      },
      "outputs": [
        {
          "output_type": "stream",
          "name": "stdout",
          "text": [
            "+----+------+----+----+---+-----+---------+------+\n",
            "|Date|Ticker|Open|High|Low|Close|Adj Close|Volume|\n",
            "+----+------+----+----+---+-----+---------+------+\n",
            "+----+------+----+----+---+-----+---------+------+\n",
            "\n"
          ]
        }
      ],
      "source": [
        "# Create the spark app\n",
        "spark = SparkSession.builder.appName(\"ML\").getOrCreate()\n",
        "\n",
        "# Create a spark dataframe with that data\n",
        "data = spark.read.csv(path, header=True, inferSchema=True)\n",
        "\n",
        "# Data cleaning and preprocessing\n",
        "data = data.dropna()\n",
        "\n",
        "#No duplicates (Yay)\n",
        "data.exceptAll(data.dropDuplicates()).show()\n"
      ]
    },
    {
      "cell_type": "markdown",
      "metadata": {
        "id": "oFyqjY28V0rG"
      },
      "source": []
    },
    {
      "cell_type": "code",
      "execution_count": 4,
      "metadata": {
        "id": "Z3lyn0xwV1TF"
      },
      "outputs": [],
      "source": [
        "from typing_extensions import final\n",
        "from pyspark.sql.functions import col\n",
        "\n",
        "# Convert the date into separate columns so that they are pure numbers\n",
        "data = data.withColumn(\"Year\", year(\"Date\")).withColumn(\"Month\", month(\"Date\")).withColumn(\"Day\", dayofmonth(\"Date\"))\n",
        "\n",
        "# OneHot Encoding on Ticker (Names of companies) change them to numerical values so that we can analyze it\n",
        "if \"TickerIndex\" not in data.columns:\n",
        "    indexer = StringIndexer(inputCol=\"Ticker\", outputCol=\"TickerIndex\")\n",
        "    data = indexer.fit(data).transform(data)\n",
        "\n",
        "# this range will be excluded\n",
        "exclude_condition = (\n",
        "    (col(\"Year\") == 2007) & (col(\"Month\") <= 12) & (col(\"Month\")>=2) |\n",
        "    (col(\"Year\") > 2007) & (col(\"Year\") < 2009) |\n",
        "    (col(\"Year\") == 2009) & (col(\"Month\") <= 4)\n",
        ")\n",
        "\n",
        "# Filter the dataset to exclude the specified range\n",
        "filtered_data = data.filter(~exclude_condition)\n",
        "\n",
        "\n",
        "# Keep track of the mapping between ticker and tickerindex so we know what the numbers represent what stock\n",
        "# A list of mappings here\n",
        "mapping = data.select(\"Ticker\",\"TickerIndex\").distinct().collect()\n",
        "\n",
        "\n",
        "# Adj Close is what we will be predicting we are extracting the columns that will not be our label columns here\n",
        "feature_columns = [col for col in data.columns if col not in ['Date','Ticker'] and col!= 'Adj Close']\n",
        "\n",
        "assembler = VectorAssembler(inputCols=feature_columns, outputCol=\"features\")\n",
        "assembled_data = assembler.transform(data)\n",
        "\n",
        "\n",
        "assembler_excluded = VectorAssembler(inputCols=[col for col in filtered_data.columns if col not in ['Date','Ticker'] and col!='Adj Close'],outputCol=\"features\")\n",
        "assembled_data_excluded = assembler_excluded.transform(filtered_data)\n",
        "\n",
        "final_data_excluded = assembled_data_excluded.select(\"features\", \"Adj Close\")\n",
        "\n",
        "# select features vector and adjacent close\n",
        "final_data = assembled_data.select(\"features\", \"Adj Close\")\n",
        "\n",
        "# Train will be 80% of the data and test will be 20% , we will set the seed to ensure that the split remains consistent\n",
        "train,test = final_data.randomSplit([0.8,0.2], seed=42)\n",
        "\n",
        "# Train for the filtered data, this is splitting for the model with the financial crisis excluded\n",
        "train_excluded,test_excluded = final_data_excluded.randomSplit([0.8,0.2], seed=42)"
      ]
    },
    {
      "cell_type": "code",
      "execution_count": null,
      "metadata": {
        "colab": {
          "base_uri": "https://localhost:8080/"
        },
        "id": "1dGiORLnyzZF",
        "outputId": "ac508ad7-f843-4c10-d671-0656eb783fbb"
      },
      "outputs": [
        {
          "name": "stdout",
          "output_type": "stream",
          "text": [
            "Root Mean Squared Error (RMSE) for financial crisis excluded: 29.16253793990679\n",
            "+-----------------+---------+--------------------+\n",
            "|       prediction|Adj Close|            features|\n",
            "+-----------------+---------+--------------------+\n",
            "|12.38860180961822| 0.142361|[0.143229,0.15277...|\n",
            "|12.38860180961822| 0.159444|[0.147778,0.19055...|\n",
            "|12.38860180961822| 0.145833|[0.152778,0.15277...|\n",
            "|12.38860180961822| 0.159722|[0.159722,0.15972...|\n",
            "|12.38860180961822| 0.166667|[0.163194,0.16666...|\n",
            "+-----------------+---------+--------------------+\n",
            "only showing top 5 rows\n",
            "\n"
          ]
        }
      ],
      "source": [
        "rf_filtered = RandomForestRegressor(featuresCol=\"features\", labelCol=\"Adj Close\", seed=42, numTrees=100,maxBins=502)\n",
        "rf_filtered.setSeed(42)\n",
        "\n",
        "# without financial crisis\n",
        "model_filtered = rf_filtered.fit(train_excluded)\n",
        "\n",
        "# Make predictions\n",
        "predictions = model_filtered.transform(test_excluded)\n",
        "\n",
        "#Evaluate how good the prediction is\n",
        "evaluator = RegressionEvaluator(labelCol=\"Adj Close\", predictionCol=\"prediction\", metricName=\"rmse\")\n",
        "rmse = evaluator.evaluate(predictions)\n",
        "\n",
        "print(f\"Root Mean Squared Error (RMSE) for financial crisis excluded: {rmse}\")\n",
        "\n",
        "# show results\n",
        "predictions.select(\"prediction\", \"Adj Close\", \"features\").show(5)"
      ]
    },
    {
      "cell_type": "code",
      "execution_count": null,
      "metadata": {
        "colab": {
          "base_uri": "https://localhost:8080/"
        },
        "id": "TN0hw3Chy5r9",
        "outputId": "cc037630-74bd-462d-b0be-4876bab6eb66"
      },
      "outputs": [
        {
          "name": "stdout",
          "output_type": "stream",
          "text": [
            "Root Mean Squared Error (RMSE) for general model: 29.136094870639774\n",
            "+-----------------+---------+--------------------+\n",
            "|       prediction|Adj Close|            features|\n",
            "+-----------------+---------+--------------------+\n",
            "|12.17149784444751| 0.142361|[0.143229,0.15277...|\n",
            "|12.17149784444751| 0.159444|[0.147778,0.19055...|\n",
            "|12.17149784444751| 0.145833|[0.152778,0.15277...|\n",
            "|12.17149784444751| 0.159722|[0.159722,0.15972...|\n",
            "|12.17149784444751| 0.166667|[0.163194,0.16666...|\n",
            "+-----------------+---------+--------------------+\n",
            "only showing top 5 rows\n",
            "\n"
          ]
        }
      ],
      "source": [
        "rf = RandomForestRegressor(featuresCol=\"features\", labelCol=\"Adj Close\", seed=42, numTrees=100,maxBins=502)\n",
        "rf.setSeed(42)\n",
        "\n",
        "# Fit model to the whole dataset, without any filters or excluded periods\n",
        "model = rf.fit(train)\n",
        "\n",
        "# Make prediction\n",
        "predictions = model.transform(test)\n",
        "\n",
        "#Evaluate how good the prediction is\n",
        "evaluator = RegressionEvaluator(labelCol=\"Adj Close\", predictionCol=\"prediction\", metricName=\"rmse\")\n",
        "rmse = evaluator.evaluate(predictions)\n",
        "\n",
        "print(f\"Root Mean Squared Error (RMSE) for general model: {rmse}\")\n",
        "\n",
        "# Show results\n",
        "predictions.select(\"prediction\", \"Adj Close\", \"features\").show(5)"
      ]
    },
    {
      "cell_type": "code",
      "execution_count": null,
      "metadata": {
        "id": "KNf8-W_1za2C"
      },
      "outputs": [],
      "source": [
        "from pyspark.ml import Pipeline\n",
        "from pyspark.sql.functions import to_date\n",
        "\n",
        "# Initialize Spark session\n",
        "spark = SparkSession.builder \\\n",
        "    .appName(\"RandomForestRegressor\") \\\n",
        "    .getOrCreate()\n",
        "\n",
        "# Download the dataset using Kaggle Hub API\n",
        "path = kagglehub.dataset_download(\"joebeachcapital/s-and-p500-index-stocks-daily-updated\")\n",
        "\n",
        "# Load the dataset into Spark Dataframe\n",
        "df = spark.read.csv(path, header=True, inferSchema=True)\n",
        "\n",
        "# Filter for ticker 'ULA'\n",
        "df_ula = df.filter(df['Ticker'] == 'UAL')\n",
        "\n",
        "# check if everything is loaded correctly\n",
        "print(df_ula)\n",
        "\n",
        "# Ensure the date column is in the correct format\n",
        "df_ula = df_ula.withColumn('Date', to_date(df_ula['Date'], 'yyyy-MM-dd'))\n",
        "\n",
        "# Select relevant columns\n",
        "df_ula = df_ula.select('Date', 'Open', 'High', 'Low', 'Volume', 'Adj Close')\n",
        "\n",
        "# --- Create datasets for training models --\n",
        "\n",
        "# Exclude the period from March 2020 to November 2020 which is the COVID period (according to the report)\n",
        "df_ula_excluded = df_ula.filter((df_ula['Date'] < '2020-03-01') | (df_ula['Date'] > '2020-11-30'))\n",
        "\n",
        "# Include the full period for the ULA stock (no exclusion)\n",
        "df_ula_included = df_ula\n",
        "\n",
        "# Assemble features for both datasets\n",
        "assembler = VectorAssembler(inputCols=['Open', 'High', 'Low', 'Volume'], outputCol='features')\n",
        "\n",
        "df_ula_excluded = assembler.transform(df_ula_excluded)\n",
        "df_ula_included = assembler.transform(df_ula_included)\n",
        "\n",
        "# Split data into training and test sets for both models using a 80/20 split\n",
        "train_data_excluded, test_data_excluded = df_ula_excluded.randomSplit([0.8, 0.2], seed=1234)\n",
        "train_data_included, test_data_included = df_ula_included.randomSplit([0.8, 0.2], seed=1234)\n",
        "\n",
        "# Initialize the RandomForestRegressor with our features\n",
        "rf = RandomForestRegressor(featuresCol='features', labelCol='Adj Close')\n",
        "\n",
        "# Train models on both datasets\n",
        "model_excluded = rf.fit(train_data_excluded)\n",
        "model_included = rf.fit(train_data_included)\n",
        "\n",
        "# Make predictions with the model excluding March 2020 to November 2020\n",
        "predictions_excluded_ULA = model_excluded.transform(test_data_excluded)\n",
        "\n",
        "# Make predictions with the model including the full period\n",
        "predictions_included_ULA = model_included.transform(test_data_included)"
      ]
    },
    {
      "cell_type": "code",
      "execution_count": null,
      "metadata": {
        "colab": {
          "base_uri": "https://localhost:8080/"
        },
        "id": "iTG3c6Jj9czg",
        "outputId": "b493ed89-8b96-4fa9-957d-03a76ba9cda3"
      },
      "outputs": [
        {
          "name": "stdout",
          "output_type": "stream",
          "text": [
            "Predictions with March 2020 to November 2020 Excluded for ULA:\n",
            "+----------+---------+-----------------+\n",
            "|      Date|Adj Close|       prediction|\n",
            "+----------+---------+-----------------+\n",
            "|2024-12-16|    95.48|91.91758769935635|\n",
            "|2024-12-12|    95.97|91.76909395785975|\n",
            "|2024-12-09|    96.02|93.10904919643271|\n",
            "|2024-12-04|    99.25|92.83645499353416|\n",
            "|2024-11-29|    96.83|91.76909395785975|\n",
            "|2024-11-26|    96.51|94.18720559029455|\n",
            "|2024-11-15|    91.17|92.83645499353416|\n",
            "|2024-11-14|    91.16|93.10904919643271|\n",
            "|2024-11-13|    89.78|94.18720559029455|\n",
            "|2024-10-31|    78.26|81.53468107150185|\n",
            "|2024-10-25|    74.64|75.44595261833332|\n",
            "|2024-10-18|    74.15|75.44595261833332|\n",
            "|2024-10-14|    63.53|61.04721559992731|\n",
            "|2024-10-10|    60.26|60.22971514722123|\n",
            "|2024-10-09|    59.43|61.04721559992731|\n",
            "|2024-09-27|    57.99|58.85991700937852|\n",
            "|2024-09-19|    52.59|53.10741635041886|\n",
            "|2024-09-05|    45.12|44.78940737269865|\n",
            "|2024-09-03|    43.87|43.36739274476998|\n",
            "|2024-08-22|    41.44| 42.0595393456778|\n",
            "+----------+---------+-----------------+\n",
            "only showing top 20 rows\n",
            "\n",
            "Predictions with March 2020 to November 2020 Included for ULA:\n",
            "+----------+---------+------------------+\n",
            "|      Date|Adj Close|        prediction|\n",
            "+----------+---------+------------------+\n",
            "|2024-12-17|    94.99| 91.80299165045821|\n",
            "|2024-12-16|    95.48| 91.80299165045821|\n",
            "|2024-12-12|    95.97| 91.80299165045821|\n",
            "|2024-12-09|    96.02| 92.09553985851667|\n",
            "|2024-12-06|   100.28| 91.80299165045821|\n",
            "|2024-12-04|    99.25| 91.80299165045821|\n",
            "|2024-12-03|    95.79| 91.80299165045821|\n",
            "|2024-11-19|    94.26| 93.26109978341732|\n",
            "|2024-11-18|    90.38| 91.80299165045821|\n",
            "|2024-11-14|    91.16| 92.23569117430614|\n",
            "|2024-11-06|    87.58| 86.73057294076101|\n",
            "|2024-10-31|    78.26| 80.84626129285589|\n",
            "|2024-10-15|    64.05| 65.07651438621653|\n",
            "|2024-09-12|    49.65|48.251544907317154|\n",
            "|2024-09-10|    48.42| 47.21495090138126|\n",
            "|2024-09-05|    45.12| 44.42288277922887|\n",
            "|2024-09-04|    44.17| 43.65788192297018|\n",
            "|2024-09-03|    43.87| 43.45196621920568|\n",
            "|2024-08-26|    42.78|42.151687718639025|\n",
            "|2024-08-21|    41.99| 41.78351061500992|\n",
            "+----------+---------+------------------+\n",
            "only showing top 20 rows\n",
            "\n"
          ]
        }
      ],
      "source": [
        "# Order predictions by most current date\n",
        "predictions_excluded = predictions_excluded_ULA.orderBy(col('Date').desc())\n",
        "predictions_included = predictions_included_ULA.orderBy(col('Date').desc())\n",
        "\n",
        "# Show predictions for the model excluding the period (March 2020 - Nov 2020)\n",
        "print(\"Predictions with March 2020 to November 2020 Excluded for ULA:\")\n",
        "predictions_excluded.select('Date', 'Adj Close', 'prediction').show()\n",
        "\n",
        "# Show predictions for the model including the full period\n",
        "print(\"Predictions with March 2020 to November 2020 Included for ULA:\")\n",
        "predictions_included.select('Date', 'Adj Close', 'prediction').show()"
      ]
    },
    {
      "cell_type": "code",
      "execution_count": null,
      "metadata": {
        "colab": {
          "base_uri": "https://localhost:8080/"
        },
        "id": "rS8C6fcDHYD6",
        "outputId": "07726305-d213-418c-bcfe-5f8da90ec425"
      },
      "outputs": [
        {
          "name": "stdout",
          "output_type": "stream",
          "text": [
            "+----+-----------------------+\n",
            "|year|avg_prediction_excluded|\n",
            "+----+-----------------------+\n",
            "|2007|      41.56448663717772|\n",
            "|2018|      78.51366831327475|\n",
            "|2015|         60.56287020196|\n",
            "|2023|      46.14816236598309|\n",
            "|2006|      34.13746484957114|\n",
            "|2022|      40.10374645605257|\n",
            "|2013|     30.840157695158073|\n",
            "|2014|      48.09991846465564|\n",
            "|2019|      86.39343898605311|\n",
            "|2020|      66.82956132592668|\n",
            "|2012|     21.144983636153935|\n",
            "|2009|      7.186706660296881|\n",
            "|2016|      52.78022757251588|\n",
            "|2024|     55.354360482156274|\n",
            "|2010|     21.497608288154733|\n",
            "|2011|      21.06704034069232|\n",
            "|2008|     15.330729998397471|\n",
            "|2017|      69.21397555153219|\n",
            "|2021|      48.63963051333712|\n",
            "+----+-----------------------+\n",
            "\n",
            "+----+-----------------------+\n",
            "|year|avg_prediction_included|\n",
            "+----+-----------------------+\n",
            "|2007|      41.56756582890751|\n",
            "|2018|      78.45727383037509|\n",
            "|2015|     60.330512559399075|\n",
            "|2023|     45.356449580670635|\n",
            "|2006|      34.09219986086741|\n",
            "|2022|      41.05528013716842|\n",
            "|2013|      31.23628614308927|\n",
            "|2014|      48.21274773184641|\n",
            "|2019|      86.74608645653812|\n",
            "|2020|      40.28271081739831|\n",
            "|2012|      20.86150036606216|\n",
            "|2009|      7.189594054546474|\n",
            "|2016|      52.68468053804813|\n",
            "|2024|      55.32520036270312|\n",
            "|2010|      21.39432887787083|\n",
            "|2011|      21.28374858639983|\n",
            "|2008|     15.499372239913576|\n",
            "|2017|      69.28461870160098|\n",
            "|2021|      50.41492426947543|\n",
            "+----+-----------------------+\n",
            "\n",
            "+----+-----------------------+-----------------------+--------------------+\n",
            "|year|avg_prediction_excluded|avg_prediction_included|      avg_difference|\n",
            "+----+-----------------------+-----------------------+--------------------+\n",
            "|2006|      34.13746484957114|      34.09219986086741|-0.04526498870372819|\n",
            "|2007|      41.56448663717772|      41.56756582890751|0.003079191729788988|\n",
            "|2008|     15.330729998397471|     15.499372239913576| 0.16864224151610507|\n",
            "|2009|      7.186706660296881|      7.189594054546474| 0.00288739424959239|\n",
            "|2010|     21.497608288154733|      21.39432887787083|-0.10327941028390342|\n",
            "|2011|      21.06704034069232|      21.28374858639983|  0.2167082457075118|\n",
            "|2012|     21.144983636153935|      20.86150036606216| -0.2834832700917751|\n",
            "|2013|     30.840157695158073|      31.23628614308927| 0.39612844793119706|\n",
            "|2014|      48.09991846465564|      48.21274773184641|  0.1128292671907758|\n",
            "|2015|         60.56287020196|     60.330512559399075| -0.2323576425609275|\n",
            "|2016|      52.78022757251588|      52.68468053804813|-0.09554703446774937|\n",
            "|2017|      69.21397555153219|      69.28461870160098| 0.07064315006878985|\n",
            "|2018|      78.51366831327475|      78.45727383037509|-0.05639448289966...|\n",
            "|2019|      86.39343898605311|      86.74608645653812|  0.3526474704850102|\n",
            "|2020|      66.82956132592668|      40.28271081739831| -26.546850508528365|\n",
            "|2021|      48.63963051333712|      50.41492426947543|  1.7752937561383106|\n",
            "|2022|      40.10374645605257|      41.05528013716842|  0.9515336811158477|\n",
            "|2023|      46.14816236598309|     45.356449580670635| -0.7917127853124555|\n",
            "|2024|     55.354360482156274|      55.32520036270312|-0.02916011945315...|\n",
            "+----+-----------------------+-----------------------+--------------------+\n",
            "\n",
            "Average difference between the included and excluded models for UAL: -1.2701924945351994\n"
          ]
        }
      ],
      "source": [
        "# Extract the year from the date column for both predictions, as we are averaging on that\n",
        "predictions_excluded_UAL = predictions_excluded.withColumn('year', year(predictions_excluded['date']))\n",
        "predictions_included_UAL = predictions_included.withColumn('year', year(predictions_included['date']))\n",
        "\n",
        "# Calculate average predcted 'Adj Close' per year for the excluded model\n",
        "avg_predictions_excluded_UAL = predictions_excluded_UAL.groupBy('year').agg(avg('prediction').alias('avg_prediction_excluded'))\n",
        "\n",
        "# Calculate average predicted 'Adj Close' per year for the included model\n",
        "avg_predictions_included_UAL = predictions_included_UAL.groupBy('year').agg(avg('prediction').alias('avg_prediction_included'))\n",
        "\n",
        "# Show results for both models\n",
        "avg_predictions_excluded_UAL.show()\n",
        "avg_predictions_included_UAL.show()\n",
        "\n",
        "# Join the two dataframes on 'year'\n",
        "combined_avg_predictions_UAL = avg_predictions_excluded_UAL.join(\n",
        "    avg_predictions_included_UAL, on='year', how='inner'\n",
        ")\n",
        "\n",
        "# Sort by year\n",
        "combined_avg_predictions_UAL = combined_avg_predictions_UAL.orderBy('year')\n",
        "\n",
        "# Calculate the difference between the predictions\n",
        "combined_avg_predictions_UAL = combined_avg_predictions_UAL.withColumn(\n",
        "    'avg_difference',\n",
        "    col('avg_prediction_included') - col('avg_prediction_excluded')\n",
        ")\n",
        "\n",
        "# Calculate the average difference across all years\n",
        "average_difference_UAL = combined_avg_predictions_UAL.agg(avg('avg_difference')).collect()[0][0]\n",
        "\n",
        "# Show the combined table\n",
        "combined_avg_predictions_UAL.show()\n",
        "\n",
        "# Display the average difference\n",
        "print(f\"Average difference between the included and excluded models for UAL: {average_difference_UAL}\")"
      ]
    },
    {
      "cell_type": "code",
      "execution_count": null,
      "metadata": {
        "colab": {
          "base_uri": "https://localhost:8080/"
        },
        "id": "T6sDZRaJAUvd",
        "outputId": "d50e9805-280a-4ff6-9b79-d7b0a27b8368"
      },
      "outputs": [
        {
          "name": "stdout",
          "output_type": "stream",
          "text": [
            "DataFrame[Date: date, Ticker: string, Open: double, High: double, Low: double, Close: double, Adj Close: double, Volume: int]\n"
          ]
        }
      ],
      "source": [
        "# Initialize Spark session\n",
        "spark = SparkSession.builder \\\n",
        "    .appName(\"RandomForestRegressor\") \\\n",
        "    .getOrCreate()\n",
        "\n",
        "# Download the dataset using Kaggle Hub API\n",
        "path = kagglehub.dataset_download(\"joebeachcapital/s-and-p500-index-stocks-daily-updated\")\n",
        "\n",
        "# Load the dataset\n",
        "df = spark.read.csv(path, header=True, inferSchema=True)\n",
        "\n",
        "# Filter for ticker 'MRNA'\n",
        "df_mrna = df.filter(df['Ticker'] == 'MRNA')\n",
        "\n",
        "# Check if its loaded properly\n",
        "print(df_mrna)\n",
        "\n",
        "# Ensure date column is in good format\n",
        "df_mrna = df_mrna.withColumn('date', to_date(df_mrna['date'], 'yyyy-MM-dd'))\n",
        "\n",
        "# Select relevant columns\n",
        "df_mrna = df_mrna.select('Date', 'Open', 'High', 'Low', 'Volume', 'Adj Close')\n",
        "\n",
        "# --- Create datasets for training models ---\n",
        "\n",
        "# Exclude the period from March 2020 to November 2020\n",
        "df_mrna_excluded = df_mrna.filter((df_mrna['date'] < '2020-03-01') | (df_mrna['date'] > '2020-11-30'))\n",
        "\n",
        "# Include the full period (no exclusion)\n",
        "df_mrna_included = df_mrna\n",
        "\n",
        "# Assemble features for both datasets\n",
        "assembler = VectorAssembler(inputCols=['Open', 'High', 'Low', 'Volume'], outputCol='features')\n",
        "\n",
        "df_mrna_excluded = assembler.transform(df_mrna_excluded)\n",
        "df_mrna_included = assembler.transform(df_mrna_included)\n",
        "\n",
        "# Split data into training and test sets for both models using 80/20 split\n",
        "train_data_excluded, test_data_excluded = df_mrna_excluded.randomSplit([0.8, 0.2], seed=1234)\n",
        "train_data_included, test_data_included = df_mrna_included.randomSplit([0.8, 0.2], seed=1234)\n",
        "\n",
        "# Initialize the RandomForestRegressor\n",
        "rf = RandomForestRegressor(featuresCol='features', labelCol='Adj Close')\n",
        "\n",
        "# Train the two models on both datasets separatly\n",
        "model_excluded = rf.fit(train_data_excluded)\n",
        "model_included = rf.fit(train_data_included)\n",
        "\n",
        "# Make predictions with the model excluding March 2020 to November 2020\n",
        "predictions_excluded = model_excluded.transform(test_data_excluded)\n",
        "\n",
        "# Make predictions with the model including the full period\n",
        "predictions_included = model_included.transform(test_data_included)"
      ]
    },
    {
      "cell_type": "code",
      "execution_count": null,
      "metadata": {
        "colab": {
          "base_uri": "https://localhost:8080/"
        },
        "id": "o52cFMsPAbiV",
        "outputId": "57120a9a-8a59-4fc6-b64f-34ad775536f7"
      },
      "outputs": [
        {
          "name": "stdout",
          "output_type": "stream",
          "text": [
            "Predictions with March 2020 to November 2020 Excluded:\n",
            "+----------+---------+------------------+\n",
            "|      Date|Adj Close|        prediction|\n",
            "+----------+---------+------------------+\n",
            "|2024-12-10|    41.51| 49.48295474782432|\n",
            "|2024-12-09|    45.65| 52.97521993187932|\n",
            "|2024-11-27|    43.39| 37.98185406613086|\n",
            "|2024-11-18|    39.51| 37.98185406613086|\n",
            "|2024-11-08|    46.83| 52.21777993187932|\n",
            "|2024-10-25|    53.09| 56.83336278061413|\n",
            "|2024-10-23|    53.39| 56.83336278061413|\n",
            "|2024-10-15|    57.31| 56.83336278061413|\n",
            "|2024-09-25|    63.64| 56.83336278061413|\n",
            "|2024-09-23|    64.14| 64.24921921181814|\n",
            "|2024-09-11|    79.51| 82.33938105757241|\n",
            "|2024-09-04|    72.49| 73.37721880738123|\n",
            "|2024-08-29|    77.59| 78.88745996180083|\n",
            "|2024-08-21|    86.65| 83.39868088633952|\n",
            "|2024-08-13|     82.9| 82.33938105757241|\n",
            "|2024-08-08|    84.32| 82.33938105757241|\n",
            "|2024-08-02|    86.58| 91.42338352932623|\n",
            "|2024-07-30|   118.84|123.93514167600327|\n",
            "|2024-07-23|   121.25| 123.7435991925184|\n",
            "|2024-07-18|   121.32|124.28935135342265|\n",
            "+----------+---------+------------------+\n",
            "only showing top 20 rows\n",
            "\n",
            "Predictions with March 2020 to November 2020 Included:\n",
            "+----------+---------+------------------+\n",
            "|      Date|Adj Close|        prediction|\n",
            "+----------+---------+------------------+\n",
            "|2024-11-26|    42.05| 40.69815646496414|\n",
            "|2024-10-31|    54.36|53.189011276532995|\n",
            "|2024-10-30|    54.72|53.189011276532995|\n",
            "|2024-10-07|    58.72| 64.26974058499162|\n",
            "|2024-09-24|    63.94| 64.26974058499162|\n",
            "|2024-09-17|    71.99| 74.39374002213472|\n",
            "|2024-08-26|    81.66| 86.18712717032328|\n",
            "|2024-08-22|    81.04| 80.77231663927216|\n",
            "|2024-08-06|     82.3| 78.86129272646517|\n",
            "|2024-07-22|    122.5|122.59450540927347|\n",
            "|2024-07-19|   121.14|121.54445009468084|\n",
            "|2024-07-17|  124.055| 122.1812742543447|\n",
            "|2024-07-15|   121.48|121.54445009468084|\n",
            "|2024-07-12|   121.46|125.41284739235054|\n",
            "|2024-07-03|   115.95|116.45218983988862|\n",
            "|2024-06-24|    137.0|135.17362157072017|\n",
            "|2024-06-21|    133.4|135.17362157072017|\n",
            "|2024-06-20|    134.4|135.17362157072017|\n",
            "|2024-06-14|   140.03|142.81494934877298|\n",
            "|2024-06-10|   148.59| 152.6394910585249|\n",
            "+----------+---------+------------------+\n",
            "only showing top 20 rows\n",
            "\n"
          ]
        }
      ],
      "source": [
        "# Order predictions by most current date for MRNA\n",
        "predictions_excluded = predictions_excluded.orderBy(col('Date').desc())\n",
        "predictions_included = predictions_included.orderBy(col('Date').desc())\n",
        "\n",
        "# Show predictions for the model excluding the period (March 2020 - Nov 2020)\n",
        "print(\"Predictions with March 2020 to November 2020 Excluded:\")\n",
        "predictions_excluded.select('Date', 'Adj Close', 'prediction').show()\n",
        "\n",
        "# Show predictions for the model including the full period\n",
        "print(\"Predictions with March 2020 to November 2020 Included:\")\n",
        "predictions_included.select('Date', 'Adj Close', 'prediction').show()"
      ]
    },
    {
      "cell_type": "code",
      "execution_count": null,
      "metadata": {
        "colab": {
          "base_uri": "https://localhost:8080/"
        },
        "id": "SWrWJx6fClcr",
        "outputId": "02fb2b85-8b13-47d6-9b65-b8d68e0c482c"
      },
      "outputs": [
        {
          "name": "stdout",
          "output_type": "stream",
          "text": [
            "+----+-----------------------+\n",
            "|year|avg_prediction_excluded|\n",
            "+----+-----------------------+\n",
            "|2018|     15.072866430304833|\n",
            "|2023|      124.3708852895942|\n",
            "|2022|     153.51758897310285|\n",
            "|2019|      18.70342812154918|\n",
            "|2020|      68.33704624971848|\n",
            "|2024|      99.60344564583029|\n",
            "|2021|     236.94594864113688|\n",
            "+----+-----------------------+\n",
            "\n",
            "+----+-----------------------+\n",
            "|year|avg_prediction_included|\n",
            "+----+-----------------------+\n",
            "|2018|     15.774466118934521|\n",
            "|2023|     121.21571485849024|\n",
            "|2022|     156.60215192121143|\n",
            "|2019|      18.70475089859806|\n",
            "|2020|      65.75601057507264|\n",
            "|2024|     107.72543459448099|\n",
            "|2021|      255.2800051063015|\n",
            "+----+-----------------------+\n",
            "\n",
            "+----+-----------------------+-----------------------+--------------------+\n",
            "|year|avg_prediction_excluded|avg_prediction_included|      avg_difference|\n",
            "+----+-----------------------+-----------------------+--------------------+\n",
            "|2018|     15.072866430304833|     15.774466118934521|  0.7015996886296882|\n",
            "|2019|      18.70342812154918|      18.70475089859806|0.001322777048880397|\n",
            "|2020|      68.33704624971848|      65.75601057507264| -2.5810356746458467|\n",
            "|2021|     236.94594864113688|      255.2800051063015|  18.334056465164622|\n",
            "|2022|     153.51758897310285|     156.60215192121143|  3.0845629481085837|\n",
            "|2023|      124.3708852895942|     121.21571485849024| -3.1551704311039543|\n",
            "|2024|      99.60344564583029|     107.72543459448099|   8.121988948650696|\n",
            "+----+-----------------------+-----------------------+--------------------+\n",
            "\n",
            "Average difference between the included and excluded models: 3.5010463888360954\n"
          ]
        }
      ],
      "source": [
        "from pyspark.sql.functions import avg\n",
        "\n",
        "# Extract the year from the date column for both predictions\n",
        "predictions_excluded = predictions_excluded.withColumn('year', year(predictions_excluded['date']))\n",
        "predictions_included = predictions_included.withColumn('year', year(predictions_included['date']))\n",
        "\n",
        "# Calculate average predicted 'Adj Close' per year for the excluded model\n",
        "avg_predictions_excluded = predictions_excluded.groupBy('year').agg(avg('prediction').alias('avg_prediction_excluded'))\n",
        "\n",
        "# Calculate average predicted 'Adj Close' per year for the included model\n",
        "avg_predictions_included = predictions_included.groupBy('year').agg(avg('prediction').alias('avg_prediction_included'))\n",
        "\n",
        "# Show results for both models\n",
        "avg_predictions_excluded.show()\n",
        "avg_predictions_included.show()\n",
        "\n",
        "# Join the two dataframes on 'year'\n",
        "combined_avg_predictions = avg_predictions_excluded.join(\n",
        "    avg_predictions_included, on='year', how='inner'\n",
        ")\n",
        "\n",
        "# Sort by year\n",
        "combined_avg_predictions = combined_avg_predictions.orderBy('year')\n",
        "\n",
        "# Calculate the difference between the predictions\n",
        "combined_avg_predictions = combined_avg_predictions.withColumn(\n",
        "    'avg_difference',\n",
        "    col('avg_prediction_included') - col('avg_prediction_excluded')\n",
        ")\n",
        "\n",
        "# Calculate the average difference across all years\n",
        "average_difference = combined_avg_predictions.agg(avg('avg_difference')).collect()[0][0]\n",
        "\n",
        "# Show the combined table\n",
        "combined_avg_predictions.show()\n",
        "\n",
        "# Display the average difference\n",
        "print(f\"Average difference between the included and excluded models: {average_difference}\")\n",
        "\n"
      ]
    },
    {
      "cell_type": "code",
      "execution_count": null,
      "metadata": {
        "id": "SOnZaCZkb4nU"
      },
      "outputs": [],
      "source": [
        "# Exclude condition for covid, we will take it out the dataset to check its performance\n",
        "exclude_condition = (\n",
        "        (col(\"Year\") == 2020) & (col(\"Month\") <= 11) & (col(\"Month\") >= 3)\n",
        ")\n",
        "\n",
        "# Filter the dataset to exclude the specified range, COVID\n",
        "filtered_data = data.filter(~exclude_condition)\n",
        "\n",
        "assembler_excluded = VectorAssembler(inputCols=[col for col in filtered_data.columns if col not in ['Date','Ticker'] and col!='Adj Close'],outputCol=\"features\")\n",
        "assembled_data_excluded = assembler_excluded.transform(filtered_data)\n",
        "\n",
        "final_data_excluded = assembled_data_excluded.select(\"features\", \"Adj Close\")\n",
        "\n",
        "train_excluded,test_excluded = final_data_excluded.randomSplit([0.8,0.2], seed=42)"
      ]
    },
    {
      "cell_type": "code",
      "execution_count": null,
      "metadata": {
        "colab": {
          "background_save": true,
          "base_uri": "https://localhost:8080/"
        },
        "id": "5vWH7Wl3c3ne",
        "outputId": "37cac259-3136-4980-ab23-73493880c1bb"
      },
      "outputs": [
        {
          "name": "stdout",
          "output_type": "stream",
          "text": [
            "Root Mean Squared Error (RMSE): 32.785446738044705\n",
            "+------------------+---------+--------------------+\n",
            "|        prediction|Adj Close|            features|\n",
            "+------------------+---------+--------------------+\n",
            "|12.239416838123175| 0.142361|[0.143229,0.15277...|\n",
            "|12.239416838123175| 0.159444|[0.147778,0.19055...|\n",
            "|12.239416838123175| 0.145833|[0.152778,0.15277...|\n",
            "|12.239416838123175| 0.159722|[0.159722,0.15972...|\n",
            "|12.239416838123175| 0.166667|[0.163194,0.16666...|\n",
            "+------------------+---------+--------------------+\n",
            "only showing top 5 rows\n",
            "\n"
          ]
        }
      ],
      "source": [
        "rf_filtered = RandomForestRegressor(featuresCol=\"features\", labelCol=\"Adj Close\", seed=42, numTrees=100,maxBins=502)\n",
        "rf_filtered.setSeed(42)\n",
        "\n",
        "model_filtered = rf_filtered.fit(train_excluded)\n",
        "\n",
        "# Make predictions for model without COVID period\n",
        "predictions = model_filtered.transform(test_excluded)\n",
        "\n",
        "#Check how good the prediction is\n",
        "evaluator = RegressionEvaluator(labelCol=\"Adj Close\", predictionCol=\"prediction\", metricName=\"rmse\")\n",
        "rmse = evaluator.evaluate(predictions)\n",
        "print(f\"Root Mean Squared Error (RMSE): {rmse}\")\n",
        "\n",
        "predictions.select(\"prediction\", \"Adj Close\", \"features\").show(5)"
      ]
    },
    {
      "cell_type": "code",
      "execution_count": 5,
      "metadata": {
        "id": "U9WLae5pc87J"
      },
      "outputs": [],
      "source": [
        "#This section is to exclude both covid and the financial crisis\n",
        "exclude_condition = (\n",
        "        (col(\"Year\") == 2020) & (col(\"Month\") <= 11) & (col(\"Month\") >= 3)|\n",
        "        (col(\"Year\") == 2007) & (col(\"Month\") <= 12) & (col(\"Month\")>=2) |\n",
        "        (col(\"Year\") > 2007) & (col(\"Year\") < 2009) |\n",
        "        (col(\"Year\") == 2009) & (col(\"Month\") <= 4)\n",
        ")\n",
        "\n",
        "\n",
        "# Filter the dataset to exclude the specified range\n",
        "filtered_data = data.filter(~exclude_condition)\n",
        "\n",
        "\n",
        "assembler_excluded = VectorAssembler(inputCols=[col for col in filtered_data.columns if col not in ['Date','Ticker'] and col!='Adj Close'],outputCol=\"features\")\n",
        "\n",
        "assembled_data_excluded = assembler_excluded.transform(filtered_data)\n",
        "\n",
        "final_data_excluded = assembled_data_excluded.select(\"features\", \"Adj Close\")\n",
        "\n",
        "train_excluded,test_excluded = final_data_excluded.randomSplit([0.8,0.2], seed=42)"
      ]
    },
    {
      "cell_type": "code",
      "execution_count": 6,
      "metadata": {
        "id": "xSLARVfjdL8V",
        "colab": {
          "base_uri": "https://localhost:8080/"
        },
        "outputId": "1a4a2889-b8e3-45ef-ede9-b7caa35c5df2"
      },
      "outputs": [
        {
          "output_type": "stream",
          "name": "stdout",
          "text": [
            "Root Mean Squared Error (RMSE): 28.050697753545084\n",
            "+------------------+---------+--------------------+\n",
            "|        prediction|Adj Close|            features|\n",
            "+------------------+---------+--------------------+\n",
            "|12.595238883717467| 0.142361|[0.143229,0.15277...|\n",
            "|12.595238883717467| 0.159444|[0.147778,0.19055...|\n",
            "|12.595238883717467| 0.145833|[0.152778,0.15277...|\n",
            "|12.595238883717467| 0.159722|[0.159722,0.15972...|\n",
            "|12.595238883717467| 0.166667|[0.163194,0.16666...|\n",
            "+------------------+---------+--------------------+\n",
            "only showing top 5 rows\n",
            "\n"
          ]
        }
      ],
      "source": [
        "rf_filtered = RandomForestRegressor(featuresCol=\"features\", labelCol=\"Adj Close\", seed=42, numTrees=100,maxBins=502)\n",
        "rf_filtered.setSeed(42)\n",
        "\n",
        "model_filtered = rf_filtered.fit(train_excluded)\n",
        "\n",
        "\n",
        "# Make the predictions for model without both periods\n",
        "predictions = model_filtered.transform(test_excluded)\n",
        "\n",
        "\n",
        "#Check how good the prediction is\n",
        "evaluator = RegressionEvaluator(labelCol=\"Adj Close\", predictionCol=\"prediction\", metricName=\"rmse\")\n",
        "rmse = evaluator.evaluate(predictions)\n",
        "print(f\"Root Mean Squared Error (RMSE): {rmse}\")\n",
        "\n",
        "predictions.select(\"prediction\", \"Adj Close\", \"features\").show(5)"
      ]
    }
  ],
  "metadata": {
    "accelerator": "GPU",
    "colab": {
      "gpuType": "T4",
      "provenance": []
    },
    "kernelspec": {
      "display_name": "Python 3",
      "name": "python3"
    },
    "language_info": {
      "name": "python"
    }
  },
  "nbformat": 4,
  "nbformat_minor": 0
}